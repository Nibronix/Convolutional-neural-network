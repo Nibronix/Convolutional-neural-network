{
 "cells": [
  {
   "cell_type": "code",
   "execution_count": 32,
   "id": "3d0ffb9c-c0ac-4a01-99e9-54da61fcb9c0",
   "metadata": {},
   "outputs": [
    {
     "name": "stdout",
     "output_type": "stream",
     "text": [
      "Model: \"model_29\"\n",
      "_________________________________________________________________\n",
      " Layer (type)                Output Shape              Param #   \n",
      "=================================================================\n",
      " input_28 (InputLayer)       [(None, 32, 32, 1)]       0         \n",
      "                                                                 \n",
      " conv2d_58 (Conv2D)          (None, 30, 30, 32)        320       \n",
      "                                                                 \n",
      " max_pooling2d_58 (MaxPoolin  (None, 15, 15, 32)       0         \n",
      " g2D)                                                            \n",
      "                                                                 \n",
      " conv2d_59 (Conv2D)          (None, 13, 13, 64)        18496     \n",
      "                                                                 \n",
      " max_pooling2d_59 (MaxPoolin  (None, 6, 6, 64)         0         \n",
      " g2D)                                                            \n",
      "                                                                 \n",
      " flatten_29 (Flatten)        (None, 2304)              0         \n",
      "                                                                 \n",
      " dense_29 (Dense)            (None, 10)                23050     \n",
      "                                                                 \n",
      "=================================================================\n",
      "Total params: 41,866\n",
      "Trainable params: 41,866\n",
      "Non-trainable params: 0\n",
      "_________________________________________________________________\n",
      "1/1 [==============================] - 0s 77ms/step\n",
      "\n",
      "Output shape: (1, 1, 10, 1) \n",
      "\n"
     ]
    },
    {
     "data": {
      "image/png": "[encoded data removed]",
      "text/plain": [
       "<Figure size 640x480 with 1 Axes>"
      ]
     },
     "metadata": {},
     "output_type": "display_data"
    }
   ],
   "source": [
    "import tensorflow as tf\n",
    "from tensorflow.keras.layers import Conv2D, MaxPooling2D, Flatten, Dense\n",
    "import matplotlib.pyplot as plt\n",
    "\n",
    "# Defines input image\n",
    "input_image = tf.constant(tf.random.normal(shape=(1, 28, 28, 1)))\n",
    "resized_image = tf.image.resize(input_image, [32, 32])\n",
    "\n",
    "# Defines input layer\n",
    "input_layer = tf.keras.Input(shape=(32, 32, 1))\n",
    "\n",
    "# First layer of Convolution\n",
    "pool1 = MaxPooling2D(pool_size=(2, 2))(Conv2D(filters=32, kernel_size=3, activation='relu')(input_layer))\n",
    "\n",
    "# Second Layer of Convolution\n",
    "pool2 = MaxPooling2D(pool_size=(2, 2))(Conv2D(filters=64, kernel_size=3, activation='relu')(pool1))\n",
    "\n",
    "# Flattens output of second layer\n",
    "flatten = Flatten()(pool2)\n",
    "\n",
    "# Defines fully connected layer\n",
    "outputs = Dense(units=10, activation='softmax')(flatten)\n",
    "\n",
    "# Create Keras model\n",
    "model = tf.keras.models.Model(inputs=input_layer, outputs=outputs)\n",
    "\n",
    "# Prints the model\n",
    "model.summary()\n",
    "\n",
    "# Run model with a random input\n",
    "output = model.predict(resized_image)\n",
    "\n",
    "# Changes the array from 2-dimensional to 4-dimensional\n",
    "output = output[:, np.newaxis, :, np.newaxis]\n",
    "\n",
    "# Prints output text\n",
    "print(f\"\\nOutput shape: {output.shape} \\n\")\n",
    "\n",
    "\n",
    "# Shows the image\n",
    "plt.imshow(output[0, :, :, 0])\n",
    "plt.show()"
   ]
  },
  {
   "cell_type": "code",
   "execution_count": null,
   "id": "e846e99b-9110-49fb-9b93-290803fe8bb9",
   "metadata": {},
   "outputs": [],
   "source": []
  },
  {
   "cell_type": "code",
   "execution_count": null,
   "id": "e1b7fccc-d792-48e0-9a56-4266c392303d",
   "metadata": {},
   "outputs": [],
   "source": []
  }
 ],
 "metadata": {
  "kernelspec": {
   "display_name": "Python 3 (ipykernel)",
   "language": "python",
   "name": "python3"
  },
  "language_info": {
   "codemirror_mode": {
    "name": "ipython",
    "version": 3
   },
   "file_extension": ".py",
   "mimetype": "text/x-python",
   "name": "python",
   "nbconvert_exporter": "python",
   "pygments_lexer": "ipython3",
   "version": "3.11.1"
  }
 },
 "nbformat": 4,
 "nbformat_minor": 5
}
